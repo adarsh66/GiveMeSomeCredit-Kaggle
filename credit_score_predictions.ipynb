{
 "cells": [
  {
   "cell_type": "markdown",
   "metadata": {},
   "source": [
    "# Give Me Some Credit - Kaggle Competition\n",
    "### Honest Bee - Data Scientist\n",
    "This challenge was done as part of the Job application for Honest Bee\n",
    "This competition requires participants to improve on the state of the art in credit scoring, by **predicting the probability that somebody will experience financial distress in the next two years.**"
   ]
  },
  {
   "cell_type": "code",
   "execution_count": 46,
   "metadata": {
    "collapsed": true
   },
   "outputs": [],
   "source": [
    "import pandas as pd\n",
    "import numpy as np\n",
    "from IPython.display import display\n",
    "import seaborn as sns\n",
    "import matplotlib.pyplot as plt\n",
    "%matplotlib inline"
   ]
  },
  {
   "cell_type": "markdown",
   "metadata": {},
   "source": [
    "## Load and clean the dataset"
   ]
  },
  {
   "cell_type": "code",
   "execution_count": 329,
   "metadata": {
    "collapsed": false
   },
   "outputs": [],
   "source": [
    "# Read the input files in\n",
    "df_train = pd.read_csv('cs-training.csv')\n",
    "df_test = pd.read_csv('cs-test.csv')\n",
    "df_sample_entry = pd.read_csv('sampleEntry.csv')\n",
    "\n",
    "# Clean up the df to remove the extra column at the start\n",
    "del df_train[u'Unnamed: 0']\n",
    "del df_test[u'Unnamed: 0']\n",
    "del df_test['SeriousDlqin2yrs']"
   ]
  },
  {
   "cell_type": "code",
   "execution_count": 330,
   "metadata": {
    "collapsed": true
   },
   "outputs": [],
   "source": [
    "#How to deal with missing/ NA values.\n",
    "#Current suggestion is to convert them to zero and move on. \n",
    "#More investigation required on exact reason for missing values\n",
    "\n",
    "df_train = df_train.fillna(0)\n",
    "df_test = df_test.fillna(0)"
   ]
  },
  {
   "cell_type": "code",
   "execution_count": 8,
   "metadata": {
    "collapsed": false
   },
   "outputs": [
    {
     "data": {
      "text/html": [
       "<div>\n",
       "<table border=\"1\" class=\"dataframe\">\n",
       "  <thead>\n",
       "    <tr style=\"text-align: right;\">\n",
       "      <th></th>\n",
       "      <th>Id</th>\n",
       "      <th>Probability</th>\n",
       "    </tr>\n",
       "  </thead>\n",
       "  <tbody>\n",
       "    <tr>\n",
       "      <th>0</th>\n",
       "      <td>1</td>\n",
       "      <td>0.080807</td>\n",
       "    </tr>\n",
       "    <tr>\n",
       "      <th>1</th>\n",
       "      <td>2</td>\n",
       "      <td>0.040719</td>\n",
       "    </tr>\n",
       "    <tr>\n",
       "      <th>2</th>\n",
       "      <td>3</td>\n",
       "      <td>0.011968</td>\n",
       "    </tr>\n",
       "    <tr>\n",
       "      <th>3</th>\n",
       "      <td>4</td>\n",
       "      <td>0.067640</td>\n",
       "    </tr>\n",
       "    <tr>\n",
       "      <th>4</th>\n",
       "      <td>5</td>\n",
       "      <td>0.108264</td>\n",
       "    </tr>\n",
       "  </tbody>\n",
       "</table>\n",
       "</div>"
      ],
      "text/plain": [
       "   Id  Probability\n",
       "0   1     0.080807\n",
       "1   2     0.040719\n",
       "2   3     0.011968\n",
       "3   4     0.067640\n",
       "4   5     0.108264"
      ]
     },
     "execution_count": 8,
     "metadata": {},
     "output_type": "execute_result"
    }
   ],
   "source": [
    "# Structure of the sample output the model needs to produce.\n",
    "df_sample_entry.head()"
   ]
  },
  {
   "cell_type": "markdown",
   "metadata": {},
   "source": [
    "## Some basic feature exploration using data viz"
   ]
  },
  {
   "cell_type": "code",
   "execution_count": 58,
   "metadata": {
    "collapsed": false
   },
   "outputs": [
    {
     "name": "stdout",
     "output_type": "stream",
     "text": [
      "Percentage of each target var class in the data:\n"
     ]
    },
    {
     "data": {
      "text/plain": [
       "0    0.93316\n",
       "1    0.06684\n",
       "Name: SeriousDlqin2yrs, dtype: float64"
      ]
     },
     "metadata": {},
     "output_type": "display_data"
    },
    {
     "data": {
      "text/html": [
       "<div>\n",
       "<table border=\"1\" class=\"dataframe\">\n",
       "  <thead>\n",
       "    <tr style=\"text-align: right;\">\n",
       "      <th></th>\n",
       "      <th>SeriousDlqin2yrs</th>\n",
       "      <th>RevolvingUtilizationOfUnsecuredLines</th>\n",
       "      <th>age</th>\n",
       "      <th>NumberOfTime30-59DaysPastDueNotWorse</th>\n",
       "      <th>DebtRatio</th>\n",
       "      <th>MonthlyIncome</th>\n",
       "      <th>NumberOfOpenCreditLinesAndLoans</th>\n",
       "      <th>NumberOfTimes90DaysLate</th>\n",
       "      <th>NumberRealEstateLoansOrLines</th>\n",
       "      <th>NumberOfTime60-89DaysPastDueNotWorse</th>\n",
       "      <th>NumberOfDependents</th>\n",
       "    </tr>\n",
       "  </thead>\n",
       "  <tbody>\n",
       "    <tr>\n",
       "      <th>count</th>\n",
       "      <td>150000.000000</td>\n",
       "      <td>150000.000000</td>\n",
       "      <td>150000.000000</td>\n",
       "      <td>150000.000000</td>\n",
       "      <td>150000.000000</td>\n",
       "      <td>1.202690e+05</td>\n",
       "      <td>150000.000000</td>\n",
       "      <td>150000.000000</td>\n",
       "      <td>150000.000000</td>\n",
       "      <td>150000.000000</td>\n",
       "      <td>146076.000000</td>\n",
       "    </tr>\n",
       "    <tr>\n",
       "      <th>mean</th>\n",
       "      <td>0.066840</td>\n",
       "      <td>6.048438</td>\n",
       "      <td>52.295207</td>\n",
       "      <td>0.421033</td>\n",
       "      <td>353.005076</td>\n",
       "      <td>6.670221e+03</td>\n",
       "      <td>8.452760</td>\n",
       "      <td>0.265973</td>\n",
       "      <td>1.018240</td>\n",
       "      <td>0.240387</td>\n",
       "      <td>0.757222</td>\n",
       "    </tr>\n",
       "    <tr>\n",
       "      <th>std</th>\n",
       "      <td>0.249746</td>\n",
       "      <td>249.755371</td>\n",
       "      <td>14.771866</td>\n",
       "      <td>4.192781</td>\n",
       "      <td>2037.818523</td>\n",
       "      <td>1.438467e+04</td>\n",
       "      <td>5.145951</td>\n",
       "      <td>4.169304</td>\n",
       "      <td>1.129771</td>\n",
       "      <td>4.155179</td>\n",
       "      <td>1.115086</td>\n",
       "    </tr>\n",
       "    <tr>\n",
       "      <th>min</th>\n",
       "      <td>0.000000</td>\n",
       "      <td>0.000000</td>\n",
       "      <td>0.000000</td>\n",
       "      <td>0.000000</td>\n",
       "      <td>0.000000</td>\n",
       "      <td>0.000000e+00</td>\n",
       "      <td>0.000000</td>\n",
       "      <td>0.000000</td>\n",
       "      <td>0.000000</td>\n",
       "      <td>0.000000</td>\n",
       "      <td>0.000000</td>\n",
       "    </tr>\n",
       "    <tr>\n",
       "      <th>25%</th>\n",
       "      <td>0.000000</td>\n",
       "      <td>0.029867</td>\n",
       "      <td>41.000000</td>\n",
       "      <td>0.000000</td>\n",
       "      <td>0.175074</td>\n",
       "      <td>NaN</td>\n",
       "      <td>5.000000</td>\n",
       "      <td>0.000000</td>\n",
       "      <td>0.000000</td>\n",
       "      <td>0.000000</td>\n",
       "      <td>NaN</td>\n",
       "    </tr>\n",
       "    <tr>\n",
       "      <th>50%</th>\n",
       "      <td>0.000000</td>\n",
       "      <td>0.154181</td>\n",
       "      <td>52.000000</td>\n",
       "      <td>0.000000</td>\n",
       "      <td>0.366508</td>\n",
       "      <td>NaN</td>\n",
       "      <td>8.000000</td>\n",
       "      <td>0.000000</td>\n",
       "      <td>1.000000</td>\n",
       "      <td>0.000000</td>\n",
       "      <td>NaN</td>\n",
       "    </tr>\n",
       "    <tr>\n",
       "      <th>75%</th>\n",
       "      <td>0.000000</td>\n",
       "      <td>0.559046</td>\n",
       "      <td>63.000000</td>\n",
       "      <td>0.000000</td>\n",
       "      <td>0.868254</td>\n",
       "      <td>NaN</td>\n",
       "      <td>11.000000</td>\n",
       "      <td>0.000000</td>\n",
       "      <td>2.000000</td>\n",
       "      <td>0.000000</td>\n",
       "      <td>NaN</td>\n",
       "    </tr>\n",
       "    <tr>\n",
       "      <th>max</th>\n",
       "      <td>1.000000</td>\n",
       "      <td>50708.000000</td>\n",
       "      <td>109.000000</td>\n",
       "      <td>98.000000</td>\n",
       "      <td>329664.000000</td>\n",
       "      <td>3.008750e+06</td>\n",
       "      <td>58.000000</td>\n",
       "      <td>98.000000</td>\n",
       "      <td>54.000000</td>\n",
       "      <td>98.000000</td>\n",
       "      <td>20.000000</td>\n",
       "    </tr>\n",
       "  </tbody>\n",
       "</table>\n",
       "</div>"
      ],
      "text/plain": [
       "       SeriousDlqin2yrs  RevolvingUtilizationOfUnsecuredLines            age  \\\n",
       "count     150000.000000                         150000.000000  150000.000000   \n",
       "mean           0.066840                              6.048438      52.295207   \n",
       "std            0.249746                            249.755371      14.771866   \n",
       "min            0.000000                              0.000000       0.000000   \n",
       "25%            0.000000                              0.029867      41.000000   \n",
       "50%            0.000000                              0.154181      52.000000   \n",
       "75%            0.000000                              0.559046      63.000000   \n",
       "max            1.000000                          50708.000000     109.000000   \n",
       "\n",
       "       NumberOfTime30-59DaysPastDueNotWorse      DebtRatio  MonthlyIncome  \\\n",
       "count                         150000.000000  150000.000000   1.202690e+05   \n",
       "mean                               0.421033     353.005076   6.670221e+03   \n",
       "std                                4.192781    2037.818523   1.438467e+04   \n",
       "min                                0.000000       0.000000   0.000000e+00   \n",
       "25%                                0.000000       0.175074            NaN   \n",
       "50%                                0.000000       0.366508            NaN   \n",
       "75%                                0.000000       0.868254            NaN   \n",
       "max                               98.000000  329664.000000   3.008750e+06   \n",
       "\n",
       "       NumberOfOpenCreditLinesAndLoans  NumberOfTimes90DaysLate  \\\n",
       "count                    150000.000000            150000.000000   \n",
       "mean                          8.452760                 0.265973   \n",
       "std                           5.145951                 4.169304   \n",
       "min                           0.000000                 0.000000   \n",
       "25%                           5.000000                 0.000000   \n",
       "50%                           8.000000                 0.000000   \n",
       "75%                          11.000000                 0.000000   \n",
       "max                          58.000000                98.000000   \n",
       "\n",
       "       NumberRealEstateLoansOrLines  NumberOfTime60-89DaysPastDueNotWorse  \\\n",
       "count                 150000.000000                         150000.000000   \n",
       "mean                       1.018240                              0.240387   \n",
       "std                        1.129771                              4.155179   \n",
       "min                        0.000000                              0.000000   \n",
       "25%                        0.000000                              0.000000   \n",
       "50%                        1.000000                              0.000000   \n",
       "75%                        2.000000                              0.000000   \n",
       "max                       54.000000                             98.000000   \n",
       "\n",
       "       NumberOfDependents  \n",
       "count       146076.000000  \n",
       "mean             0.757222  \n",
       "std              1.115086  \n",
       "min              0.000000  \n",
       "25%                   NaN  \n",
       "50%                   NaN  \n",
       "75%                   NaN  \n",
       "max             20.000000  "
      ]
     },
     "metadata": {},
     "output_type": "display_data"
    }
   ],
   "source": [
    "# Get some basic stats on the training data\n",
    "print 'Percentage of each target var class in the data:'\n",
    "display(df_train.SeriousDlqin2yrs.value_counts()/len(df_train))\n",
    "\n",
    "#High level descriptive stats on all the other fields.\n",
    "display(df_train.describe())"
   ]
  },
  {
   "cell_type": "code",
   "execution_count": 360,
   "metadata": {
    "collapsed": true
   },
   "outputs": [],
   "source": [
    "def build_scatter_plots(data, x_field, y_field, x_log=False, y_log = False):\n",
    "    fig = plt.figure()\n",
    "    ax = fig.add_subplot(1,1,1)\n",
    "    ax.scatter(data[x_field], data[y_field])\n",
    "    plt.xlabel(x_field)\n",
    "    plt.ylabel(y_field)\n",
    "    if x_log:\n",
    "        ax.set_xscale('log')\n",
    "    if y_log:\n",
    "        ax.set_yscale('log')\n",
    "    plt.show()"
   ]
  },
  {
   "cell_type": "code",
   "execution_count": 361,
   "metadata": {
    "collapsed": false
   },
   "outputs": [
    {
     "data": {
      "image/png": "[encoded data removed]",
      "text/plain": [
       "<matplotlib.figure.Figure at 0x7fe0a7814f50>"
      ]
     },
     "metadata": {},
     "output_type": "display_data"
    }
   ],
   "source": [
    "build_scatter_plots(df_train.iloc[:1000,], 'age','MonthlyIncome',x_log=False, y_log=False )"
   ]
  },
  {
   "cell_type": "code",
   "execution_count": 362,
   "metadata": {
    "collapsed": false
   },
   "outputs": [
    {
     "data": {
      "image/png": "[encoded data removed]",
      "text/plain": [
       "<matplotlib.figure.Figure at 0x7fe0a66da910>"
      ]
     },
     "metadata": {},
     "output_type": "display_data"
    }
   ],
   "source": [
    "build_scatter_plots(df_train.iloc[:1000,], 'MonthlyIncome','NumberOfTimes90DaysLate',x_log=False, y_log=False )"
   ]
  },
  {
   "cell_type": "code",
   "execution_count": 378,
   "metadata": {
    "collapsed": false
   },
   "outputs": [
    {
     "data": {
      "image/png": "[encoded data removed]",
      "text/plain": [
       "<matplotlib.figure.Figure at 0x7fe0a7941190>"
      ]
     },
     "metadata": {},
     "output_type": "display_data"
    }
   ],
   "source": [
    "build_scatter_plots(df_train.iloc[:10000,], 'TotalNumberOfLateDays','RevolvingUtilizationOfUnsecuredLines',x_log=False, y_log=False )"
   ]
  },
  {
   "cell_type": "markdown",
   "metadata": {},
   "source": [
    "## Feature engineering\n",
    "Some basic additional features being added to the model"
   ]
  },
  {
   "cell_type": "code",
   "execution_count": 331,
   "metadata": {
    "collapsed": false
   },
   "outputs": [],
   "source": [
    "def add_feats(df):\n",
    "    #Add some more engineered features to the dataset\n",
    "    \n",
    "    #Total sum of the delay days from the three bins\n",
    "    df['TotalNumberOfLateDays'] = df['NumberOfTime30-59DaysPastDueNotWorse']\\\n",
    "                                  + df['NumberOfTime60-89DaysPastDueNotWorse']\\\n",
    "                                  + df['NumberOfTimes90DaysLate']\n",
    "            \n",
    "    #Absolute Debt value instead of DebtRatio\n",
    "    df['DebtValue'] = df['MonthlyIncome'] - (df['MonthlyIncome'] * df['DebtRatio'])\n",
    "    \n",
    "    #Income on log scale\n",
    "    df['LogMonthlyIncome'] = df['MonthlyIncome'].apply(lambda x: log1p(x))\n",
    "    \n",
    "    #Income to Dependent ratio\n",
    "    df['DependentIncomeRatio'] = df['MonthlyIncome'] / (1+df['NumberOfDependents'])\n",
    "    \n",
    "    return df    "
   ]
  },
  {
   "cell_type": "code",
   "execution_count": 332,
   "metadata": {
    "collapsed": true
   },
   "outputs": [],
   "source": [
    "df_train = add_feats(df_train)\n",
    "df_test = add_feats(df_test)"
   ]
  },
  {
   "cell_type": "markdown",
   "metadata": {},
   "source": [
    "## Model building"
   ]
  },
  {
   "cell_type": "code",
   "execution_count": 312,
   "metadata": {
    "collapsed": false
   },
   "outputs": [],
   "source": [
    "def build_and_test_model(X_train, y_train, X_test, y_test, clf_func, **kwargs):\n",
    "    from sklearn import cross_validation\n",
    "    \n",
    "    clf = clf_func(**kwargs)\n",
    "    \n",
    "    print 'Model name: ** %s **' % clf_func.__name__\n",
    "    clf.fit(X_train, y_train)\n",
    "    print '\\tAccuracy on the training set: %.5f' % clf.score(X_train, y_train)\n",
    "    print(\"\\tAccuracy on the hold out set: %.5f\" % ( clf.score(X_test, y_test)))\n",
    "    \n",
    "    scores = cross_validation.cross_val_score(clf, X_train, y_train, cv = 5)\n",
    "    print(\"\\tAccuracy using 5-fold CV on train set: %0.5f (+/- %0.5f)\" % (scores.mean(), scores.std() * 2))\n",
    "    \n",
    "    #Returns all the four classifier models. User will choose which one is the best\n",
    "    return clf"
   ]
  },
  {
   "cell_type": "code",
   "execution_count": 391,
   "metadata": {
    "collapsed": false
   },
   "outputs": [],
   "source": [
    "def build_roc_curve(X, y, model_list, model_name):\n",
    "    from sklearn.metrics import roc_curve, auc\n",
    "    for i in range(len(model_list)):\n",
    "        scores = model_list[i].predict_proba(X)\n",
    "        fpr, tpr, thresholds = roc_curve(y,scores[:, 1])\n",
    "        roc_auc = auc(fpr, tpr)\n",
    "        plt.plot(fpr, tpr, lw=1, label='%s - AUC = %0.5f' % (model_name[i], roc_auc))\n",
    "    plt.plot([0, 1], [0, 1], '--', color=(0.6, 0.6, 0.6))\n",
    "    plt.xlim([-0.05, 1.05])\n",
    "    plt.ylim([-0.05, 1.05])\n",
    "    plt.xlabel('False Positive Rate')\n",
    "    plt.ylabel('True Positive Rate')\n",
    "    plt.title('ROC Curve')\n",
    "    #plt.legend(bbox_to_anchor=(1.05, 1), loc=2, borderaxespad=0.)\n",
    "    plt.legend(loc='lower right')\n",
    "    plt.savefig('ROC_Curve.pdf', orientation = 'landscape')\n",
    "    plt.show()\n",
    "    "
   ]
  },
  {
   "cell_type": "code",
   "execution_count": 244,
   "metadata": {
    "collapsed": true
   },
   "outputs": [],
   "source": [
    "def rf_feat_importance(rf_model , X, n=10):\n",
    "    #Given the random forest model, will output the top n features by importance\n",
    "    importances= rf_model.feature_importances_\n",
    "    indices = np.argsort(importances)[::-1]\n",
    "    # Print the feature ranking\n",
    "    print(\"Top 10 Features - Feature ranking:\")\n",
    "    for f in range(n):\n",
    "        print(\"%d. feature %s (%f)\" % (f + 1, X.columns[indices[f]] , importances[indices[f]]))"
   ]
  },
  {
   "cell_type": "code",
   "execution_count": 281,
   "metadata": {
    "collapsed": true
   },
   "outputs": [],
   "source": [
    "def build_confusion_matrix(X, y, model_list, model_name):\n",
    "    from sklearn.metrics import confusion_matrix\n",
    "    for i in range(len(model_list)):\n",
    "        preds = model_list[i].predict(X)\n",
    "        print '** confusion matrix for model %s **' % model_name[i]\n",
    "        cm = confusion_matrix(y, preds)\n",
    "        cm_normalized = cm.astype('float') / cm.sum(axis=1)[:, np.newaxis]\n",
    "        print ' \\t0\\t1'\n",
    "        print '--------------------'\n",
    "        print '0\\t%.3f\\t%.3f' % (cm_normalized[0][0], cm_normalized[0][1])\n",
    "        print '1\\t%.3f\\t%.3f' % (cm_normalized[1][0], cm_normalized[1][1])\n",
    "        print '--------------------'"
   ]
  },
  {
   "cell_type": "markdown",
   "metadata": {},
   "source": [
    "## Evaluate four different classifiers\n",
    "**Naive Bayes, Logistic Regression , AdaBoost Classifier, and Random Forest Classifier**\n",
    "\n",
    "Train on the training set, and accuracy measured on the hold out set or k-fold cv set"
   ]
  },
  {
   "cell_type": "code",
   "execution_count": 333,
   "metadata": {
    "collapsed": false
   },
   "outputs": [
    {
     "name": "stdout",
     "output_type": "stream",
     "text": [
      "Model name: ** GaussianNB **\n",
      "\tAccuracy on the training set: 0.93301\n",
      "\tAccuracy on the hold out set: 0.93262\n",
      "Model name: ** LogisticRegression **\n",
      "\tAccuracy on the training set: 0.93343\n",
      "\tAccuracy on the hold out set: 0.93264\n",
      "Model name: ** AdaBoostClassifier **\n",
      "\tAccuracy on the training set: 0.93574\n",
      "\tAccuracy on the hold out set: 0.93480\n",
      "Model name: ** RandomForestClassifier **\n",
      "\tAccuracy on the training set: 0.94725\n",
      "\tAccuracy on the hold out set: 0.93656\n"
     ]
    }
   ],
   "source": [
    "from sklearn.naive_bayes import GaussianNB\n",
    "from sklearn.linear_model import LogisticRegression\n",
    "from sklearn.ensemble import AdaBoostClassifier\n",
    "from sklearn.ensemble import RandomForestClassifier\n",
    "\n",
    "X = df_train.ix[:,1:]\n",
    "y = df_train.ix[:,0]\n",
    "\n",
    "#Use traditional train , test split for training and validating the model.\n",
    "#Hold out set/ validation set size = 30%\n",
    "X_train, X_test, y_train, y_test = cross_validation.train_test_split(X, y, test_size=0.3, \n",
    "                                                                         random_state=0)\n",
    "model_nb = build_and_test_model(X_train, y_train, X_test, y_test, GaussianNB)\n",
    "model_lreg= build_and_test_model(X_train, y_train, X_test, y_test, LogisticRegression, C=0.9)\n",
    "model_adab= build_and_test_model(X_train, y_train, X_test, y_test, AdaBoostClassifier)\n",
    "model_rf = build_and_test_model(X_train, y_train, X_test, y_test, RandomForestClassifier, max_depth=10, n_estimators=500)"
   ]
  },
  {
   "cell_type": "code",
   "execution_count": 334,
   "metadata": {
    "collapsed": false
   },
   "outputs": [
    {
     "name": "stdout",
     "output_type": "stream",
     "text": [
      "** confusion matrix for model GaussianNB **\n",
      " \t0\t1\n",
      "--------------------\n",
      "0\t0.998\t0.002\n",
      "1\t0.977\t0.023\n",
      "--------------------\n",
      "** confusion matrix for model LogisticRegression **\n",
      " \t0\t1\n",
      "--------------------\n",
      "0\t0.999\t0.001\n",
      "1\t0.989\t0.011\n",
      "--------------------\n",
      "** confusion matrix for model AdaBoostClassifier **\n",
      " \t0\t1\n",
      "--------------------\n",
      "0\t0.987\t0.013\n",
      "1\t0.785\t0.215\n",
      "--------------------\n",
      "** confusion matrix for model RandomForestClassifier **\n",
      " \t0\t1\n",
      "--------------------\n",
      "0\t0.993\t0.007\n",
      "1\t0.841\t0.159\n",
      "--------------------\n"
     ]
    }
   ],
   "source": [
    "build_confusion_matrix(X_test, y_test, [model_nb, model_lreg, model_adab, model_rf], \n",
    "                [GaussianNB.__name__, LogisticRegression.__name__, AdaBoostClassifier.__name__,\n",
    "                 RandomForestClassifier.__name__])"
   ]
  },
  {
   "cell_type": "code",
   "execution_count": 392,
   "metadata": {
    "collapsed": false
   },
   "outputs": [
    {
     "data": {
      "image/png": "[encoded data removed]",
      "text/plain": [
       "<matplotlib.figure.Figure at 0x7fe0a66da910>"
      ]
     },
     "metadata": {},
     "output_type": "display_data"
    }
   ],
   "source": [
    "build_roc_curve(X_test, y_test, [model_nb, model_lreg, model_adab, model_rf], \n",
    "                [GaussianNB.__name__, LogisticRegression.__name__,  AdaBoostClassifier.__name__,\n",
    "                 RandomForestClassifier.__name__])"
   ]
  },
  {
   "cell_type": "code",
   "execution_count": 336,
   "metadata": {
    "collapsed": false
   },
   "outputs": [
    {
     "name": "stdout",
     "output_type": "stream",
     "text": [
      "Top 10 Features - Feature ranking:\n",
      "1. feature TotalNumberOfLateDays (0.222451)\n",
      "2. feature NumberOfTimes90DaysLate (0.185545)\n",
      "3. feature RevolvingUtilizationOfUnsecuredLines (0.150280)\n",
      "4. feature NumberOfTime60-89DaysPastDueNotWorse (0.082537)\n",
      "5. feature NumberOfTime30-59DaysPastDueNotWorse (0.071259)\n",
      "6. feature age (0.046956)\n",
      "7. feature DebtRatio (0.046210)\n",
      "8. feature DebtValue (0.040208)\n",
      "9. feature DependentIncomeRatio (0.034198)\n",
      "10. feature NumberOfOpenCreditLinesAndLoans (0.033503)\n"
     ]
    }
   ],
   "source": [
    "rf_feat_importance(model_rf, X_train, n=10)"
   ]
  },
  {
   "cell_type": "markdown",
   "metadata": {},
   "source": [
    "## Best model - RF Classifier\n",
    "Out of the four chosen hypothesis models, the **RF Classifier does the best on the hold out set**.\n",
    "Now we can use this model to generate the predictions on the test set.\n"
   ]
  },
  {
   "cell_type": "code",
   "execution_count": 248,
   "metadata": {
    "collapsed": true
   },
   "outputs": [],
   "source": [
    "def save_test_predictions(scores):\n",
    "    #Given the predictions made on the test set, save it to a csv file in the right format\n",
    "    df_scores =  pd.DataFrame(scores)\n",
    "    df_scores.reset_index(inplace= True)\n",
    "    df_scores.columns = ['Id','Probability']\n",
    "    #Incrementing the ID column by 1\n",
    "    df_scores.Id = df_scores.Id + 1\n",
    "    df_scores.to_csv('predictions.csv', index=False)"
   ]
  },
  {
   "cell_type": "code",
   "execution_count": 296,
   "metadata": {
    "collapsed": false
   },
   "outputs": [],
   "source": [
    "scores = model_rf.predict_proba(df_test.fillna(0))[:,1]\n",
    "save_test_predictions(scores)"
   ]
  },
  {
   "cell_type": "code",
   "execution_count": null,
   "metadata": {
    "collapsed": true
   },
   "outputs": [],
   "source": []
  }
 ],
 "metadata": {
  "kernelspec": {
   "display_name": "Python 2",
   "language": "python",
   "name": "python2"
  },
  "language_info": {
   "codemirror_mode": {
    "name": "ipython",
    "version": 2
   },
   "file_extension": ".py",
   "mimetype": "text/x-python",
   "name": "python",
   "nbconvert_exporter": "python",
   "pygments_lexer": "ipython2",
   "version": "2.7.6"
  }
 },
 "nbformat": 4,
 "nbformat_minor": 0
}
